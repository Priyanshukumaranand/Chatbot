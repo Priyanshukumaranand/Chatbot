{
 "cells": [
  {
   "cell_type": "code",
   "execution_count": 5,
   "metadata": {},
   "outputs": [
    {
     "name": "stderr",
     "output_type": "stream",
     "text": [
      "[nltk_data] Downloading package punkt to\n",
      "[nltk_data]     C:\\Users\\priya\\AppData\\Roaming\\nltk_data...\n",
      "[nltk_data]   Unzipping tokenizers\\punkt.zip.\n"
     ]
    },
    {
     "data": {
      "text/plain": [
       "True"
      ]
     },
     "execution_count": 5,
     "metadata": {},
     "output_type": "execute_result"
    }
   ],
   "source": [
    "import os\n",
    "import nltk\n",
    "import ssl\n",
    "import streamlit as st\n",
    "import random\n",
    "from sklearn.feature_extraction.text import TfidfVectorizer\n",
    "from sklearn.linear_model import LogisticRegression\n",
    "\n",
    "ssl.create_default_https_context = ssl._create_unverified_context\n",
    "nltk.data.path.append(os.path.abspath(\"nltk_data\"))\n",
    "nltk.download('punkt')"
   ]
  },
  {
   "cell_type": "code",
   "execution_count": null,
   "metadata": {},
   "outputs": [],
   "source": [
    "intents = [\n",
    "    {\n",
    "        \"tag\": \"greeting\",\n",
    "        \"patterns\": [\"Hi\",\"Hello\",\"Hey\",\"How are you\"],\n",
    "        \"responses\": [\"Hello there\",\"Hello\",\"Hey\",\"I'm fine ,thank you\",\"Nothing much\"]\n",
    "    },\n",
    "    {\n",
    "        \"tag\": \"goodbye\",\n",
    "        \"patterns\": [\"Bye\",\"Goodbye\",\"See you later\",\"Take care\"],\n",
    "        \"responses\": [\"Goodbye\",\"See you later\",\"Take care\"]\n",
    "    },\n",
    "    {\n",
    "        \"tag\": \"thanks\",\n",
    "        \"patterns\": [\"Thanks\",\"Thank you\",\"That's helpful\",\"Thank you very much\"],\n",
    "        \"responses\": [\"You're welcome\",\"Anytime\",\"My pleasure\"]\n",
    "    },\n",
    "    {\n",
    "        \"tag\": \"about\",\n",
    "        \"patterns\": [\"Who are you\",\"What are you\",\"What's your name\",\"What do you do\"],\n",
    "        \"responses\": [\"I'm a chatbot\",\"I'm a virtual assistant\",\"I'm a bot\"]\n",
    "    },\n",
    "    {\n",
    "        \"tag\": \"help\",\n",
    "        \"patterns\": [\"Can you help me\",\"What can you do for me\",\"I need your assistance\",\"Can you assist me\"],\n",
    "        \"responses\": [\"I can help you with that\",\"I can assist you\",\"I can do that\"]\n",
    "    },\n",
    "    {\n",
    "        \"tag\":\"age\",\n",
    "        \"patterns\":[\"How old are you\",\"What's your age\"],\n",
    "        \"responses\":[\"I'm a computer program, I don't have an age\"]\n",
    "    },\n",
    "    {\n",
    "        \"tag\":\"weather\",\n",
    "        \"patterns\":[\"What's the weather like today\",\"How's the weather today\",\"Is it going to rain today\"],\n",
    "        \"responses\":[\"I'm a computer program, I don't know the weather\"]\n",
    "    },\n",
    "    {\n",
    "        \"tag\":\"news\",\n",
    "        \"patterns\":[\"What's the latest news\",\"Tell me the news\",\"What's happening around the world\"],\n",
    "        \"responses\":[\"I'm a computer program, I don't know the news\"]\n",
    "    },\n",
    "    {\n",
    "        \"tag\":\"jokes\",\n",
    "        \"patterns\":[\"Tell me a joke\",\"Say something funny\",\"Do you know any jokes\"],\n",
    "        \"responses\":[\"Why don't scientists trust atoms? Because they make up everything!\",\"What do you call a fish with\"]\n",
    "    },\n",
    "    {\n",
    "        \"tag\":\"music\",\n",
    "        \"patterns\":[\"Play some music\",\"Can you play some music\",\"I want to listen to music\"],\n",
    "        \"responses\":[\"I'm a computer program, I can't play music\"]\n",
    "    },\n",
    "    {\n",
    "        \"tag\":\"movies\",\n",
    "        \"patterns\":[\"What's your favorite movie\",\"Tell me a movie\",\"Do you like movies\"],\n",
    "        \"responses\":[\"I'm a computer program, I don't watch movies\"]\n",
    "    }\n",
    "\n",
    "\n",
    "\n",
    "]"
   ]
  },
  {
   "cell_type": "code",
   "execution_count": null,
   "metadata": {},
   "outputs": [],
   "source": []
  }
 ],
 "metadata": {
  "kernelspec": {
   "display_name": "Python 3",
   "language": "python",
   "name": "python3"
  },
  "language_info": {
   "codemirror_mode": {
    "name": "ipython",
    "version": 3
   },
   "file_extension": ".py",
   "mimetype": "text/x-python",
   "name": "python",
   "nbconvert_exporter": "python",
   "pygments_lexer": "ipython3",
   "version": "3.12.2"
  }
 },
 "nbformat": 4,
 "nbformat_minor": 2
}
